{
  "nbformat": 4,
  "nbformat_minor": 0,
  "metadata": {
    "colab": {
      "provenance": [],
      "authorship_tag": "ABX9TyNkewSZjI5PawzkJJtB/Fez",
      "include_colab_link": true
    },
    "kernelspec": {
      "name": "python3",
      "display_name": "Python 3"
    },
    "language_info": {
      "name": "python"
    }
  },
  "cells": [
    {
      "cell_type": "markdown",
      "metadata": {
        "id": "view-in-github",
        "colab_type": "text"
      },
      "source": [
        "<a href=\"https://colab.research.google.com/github/RysanDeluna/Quantum/blob/main/Grad_Research/GeneralCA.ipynb\" target=\"_parent\"><img src=\"https://colab.research.google.com/assets/colab-badge.svg\" alt=\"Open In Colab\"/></a>"
      ]
    },
    {
      "cell_type": "code",
      "execution_count": null,
      "metadata": {
        "id": "99jjbqUNvCKT"
      },
      "outputs": [],
      "source": [
        "import numpy as np"
      ]
    },
    {
      "cell_type": "code",
      "source": [
        "# Instances the random generator\n",
        "rng = np.random.default_rng()\n",
        "\n",
        "# Generates data\n",
        "data = rng.integers(0,2,50)\n",
        "data"
      ],
      "metadata": {
        "colab": {
          "base_uri": "https://localhost:8080/"
        },
        "id": "8uwnOIFbvJXV",
        "outputId": "caf927fc-bd5a-4b06-dab2-56f05dab0370"
      },
      "execution_count": null,
      "outputs": [
        {
          "output_type": "execute_result",
          "data": {
            "text/plain": [
              "array([0, 1, 1, 1, 1, 1, 1, 1, 0, 1, 0, 0, 0, 0, 0, 1, 0, 1, 0, 0, 1, 0,\n",
              "       1, 0, 0, 1, 0, 1, 1, 0, 1, 0, 1, 0, 0, 0, 0, 0, 0, 0, 0, 1, 1, 0,\n",
              "       1, 1, 0, 1, 0, 0])"
            ]
          },
          "metadata": {},
          "execution_count": 2
        }
      ]
    },
    {
      "cell_type": "markdown",
      "source": [
        "A função abaixo converte um número inteiro que representa a regra pelo Código de Wolfram em um `array` de números binários."
      ],
      "metadata": {
        "id": "th0kOrRaK4Gm"
      }
    },
    {
      "cell_type": "code",
      "source": [
        "binary_rule = lambda rule : np.array([int(bit) for bit in np.binary_repr(rule, 8)])\n",
        "binary_rule(90)"
      ],
      "metadata": {
        "colab": {
          "base_uri": "https://localhost:8080/"
        },
        "id": "LcIHLK5qwG3x",
        "outputId": "146834b0-c4a1-434a-c01f-25104456f9cf"
      },
      "execution_count": null,
      "outputs": [
        {
          "output_type": "execute_result",
          "data": {
            "text/plain": [
              "array([0, 1, 0, 1, 1, 0, 1, 0])"
            ]
          },
          "metadata": {},
          "execution_count": 3
        }
      ]
    },
    {
      "cell_type": "markdown",
      "source": [
        "Usando esta função, então, é possível saber se uma célula está viva ou morta de acordo com um mapeamento para o índice que representa a relação dela com seus vizinhos. Assim, a função que realiza o mapeamento deve receber o estado de uma célula e seus vizinhos, transformar essa informação em uma representação decimal e identificar o índice determinado pela regra de transição."
      ],
      "metadata": {
        "id": "yE36_W95LRN5"
      }
    },
    {
      "cell_type": "code",
      "source": [
        "rule_index = lambda l,m,r : 7 - (l*4 + m*2 + r*1)\n",
        "rule_index(1,1,1)"
      ],
      "metadata": {
        "colab": {
          "base_uri": "https://localhost:8080/"
        },
        "id": "PtRE0Dw2Ktgs",
        "outputId": "98b520c4-f0bf-4d0d-9f00-5f088f2d2f0f"
      },
      "execution_count": null,
      "outputs": [
        {
          "output_type": "execute_result",
          "data": {
            "text/plain": [
              "0"
            ]
          },
          "metadata": {},
          "execution_count": 4
        }
      ]
    },
    {
      "cell_type": "markdown",
      "source": [
        "O mapeamento pode ser realizado da seguinte forma para qualquer configuração de vizinhança e qualquer regra para uma única célula."
      ],
      "metadata": {
        "id": "Es-pNDFdOpoE"
      }
    },
    {
      "cell_type": "code",
      "source": [
        "rule = binary_rule(90)\n",
        "rule[rule_index(1,0,1)]"
      ],
      "metadata": {
        "colab": {
          "base_uri": "https://localhost:8080/"
        },
        "id": "pXVb_ER4ObAn",
        "outputId": "d4bb70a4-0395-4c39-d67c-68c211bf62e4"
      },
      "execution_count": null,
      "outputs": [
        {
          "output_type": "execute_result",
          "data": {
            "text/plain": [
              "0"
            ]
          },
          "metadata": {},
          "execution_count": 5
        }
      ]
    },
    {
      "cell_type": "code",
      "source": [
        "def CA_step(config, rule):\n",
        "  new_config = [0]*len(config)\n",
        "  for i in range(0, len(config)):\n",
        "    m = config[i]\n",
        "    l = config[i-1] if i != 0 else config[-1]\n",
        "    r = config[i+1] if i != len(config) - 1 else config[0]\n",
        "\n",
        "    new_config[i] = rule[rule_index(l,m,r)]\n",
        "  return new_config\n",
        "\n",
        "def CA_run(initial_config, n_steps, rule_number):\n",
        "  current_config = initial_config\n",
        "  history = [current_config]\n",
        "\n",
        "  # Create rule\n",
        "  rule = binary_rule(rule_number)\n",
        "\n",
        "  # Run the CA\n",
        "  for n in range(n_steps):\n",
        "    current_config = CA_step(current_config, rule)\n",
        "    history.append(current_config)\n",
        "\n",
        "  return history"
      ],
      "metadata": {
        "id": "03r8R1CadrHI"
      },
      "execution_count": null,
      "outputs": []
    },
    {
      "cell_type": "code",
      "source": [
        "n_cells = 7\n",
        "n_it = 3\n",
        "data = np.zeros(n_cells, dtype=int)\n",
        "data[int(n_cells/2)] = 1"
      ],
      "metadata": {
        "id": "qzXNBQmZp3Xq"
      },
      "execution_count": null,
      "outputs": []
    },
    {
      "cell_type": "code",
      "source": [
        "import matplotlib.pyplot as plt\n",
        "\n",
        "def print_automata_px(n_cells, n_it, data):\n",
        "  px = 1/plt.rcParams['figure.dpi']\n",
        "\n",
        "  fig, ax = plt.subplots(figsize=(n_it*px,n_cells*px))\n",
        "  ax.matshow(data, cmap='gist_yarg')\n",
        "  ax.axis(False)\n",
        "  return fig, ax\n",
        "\n",
        "def print_automata_std(data, x=10, y=5):\n",
        "  fig, ax = plt.subplots(figsize=(x,y))\n",
        "  ax.matshow(np.rot90(data), cmap='gist_yarg')\n",
        "  return fig, ax\n",
        "\n",
        "\n",
        "def print_automata_std2(data, x=10, y=5):\n",
        "  fig, ax = plt.subplots(figsize=(x,y))\n",
        "  ax.matshow(data, cmap='gist_yarg')\n",
        "  return fig, ax\n",
        "\n"
      ],
      "metadata": {
        "id": "6_mslmFzxumP"
      },
      "execution_count": null,
      "outputs": []
    },
    {
      "cell_type": "code",
      "source": [
        "history = CA_run(data, n_steps=22, rule_number=90)\n",
        "print_automata_std(history)"
      ],
      "metadata": {
        "id": "Ir-7r6Lc4HS3",
        "colab": {
          "base_uri": "https://localhost:8080/",
          "height": 297
        },
        "outputId": "ce3d38cc-79a2-413f-af43-3d5510194917"
      },
      "execution_count": null,
      "outputs": [
        {
          "output_type": "display_data",
          "data": {
            "text/plain": [
              "<Figure size 1000x500 with 1 Axes>"
            ],
            "image/png": "[encoded data removed]"
          },
          "metadata": {}
        }
      ]
    },
    {
      "cell_type": "code",
      "source": [
        "n_cells = 50\n",
        "n_it = 1000\n",
        "data = np.zeros(n_cells, dtype=int)\n",
        "data[int(n_cells/2)] = 1\n",
        "\n",
        "data = CA_run(data, n_steps=n_it, rule_number=90)\n",
        "fig, ax = print_automata_std(data, 50, 40)"
      ],
      "metadata": {
        "colab": {
          "base_uri": "https://localhost:8080/",
          "height": 66
        },
        "id": "g_BYnMJ8LYvV",
        "outputId": "a8a308db-bd5f-4dee-e3c5-8f42016a82b8"
      },
      "execution_count": null,
      "outputs": [
        {
          "output_type": "display_data",
          "data": {
            "text/plain": [
              "<Figure size 5000x4000 with 1 Axes>"
            ],
            "image/png": "[encoded data removed]"
          },
          "metadata": {}
        }
      ]
    },
    {
      "cell_type": "code",
      "source": [
        "fig.savefig('automata.pdf')"
      ],
      "metadata": {
        "id": "s5pjknjpCJzY"
      },
      "execution_count": null,
      "outputs": []
    },
    {
      "cell_type": "code",
      "source": [
        "history[-1]"
      ],
      "metadata": {
        "colab": {
          "base_uri": "https://localhost:8080/"
        },
        "id": "DOdh6dnNcGfT",
        "outputId": "ea42548d-b38e-45e8-eb81-e7e636a50529"
      },
      "execution_count": null,
      "outputs": [
        {
          "output_type": "execute_result",
          "data": {
            "text/plain": [
              "[0, 0, 1, 0, 1, 0, 0]"
            ]
          },
          "metadata": {},
          "execution_count": 11
        }
      ]
    }
  ]
}